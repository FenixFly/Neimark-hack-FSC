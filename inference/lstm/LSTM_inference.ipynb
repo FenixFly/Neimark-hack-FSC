{
 "cells": [
  {
   "cell_type": "code",
   "execution_count": 1,
   "id": "8ba1c881-615b-400e-9b67-d2a19c02d7f1",
   "metadata": {},
   "outputs": [
    {
     "name": "stdout",
     "output_type": "stream",
     "text": [
      "WARNING:tensorflow:Layer lstm will not use cuDNN kernels since it doesn't meet the criteria. It will use a generic GPU kernel as fallback when running on GPU.\n",
      "Loaded model from disk\n"
     ]
    },
    {
     "ename": "FileNotFoundError",
     "evalue": "[Errno 2] No such file or directory: 'encoder_classes.npy'",
     "output_type": "error",
     "traceback": [
      "\u001b[1;31m---------------------------------------------------------------------------\u001b[0m",
      "\u001b[1;31mFileNotFoundError\u001b[0m                         Traceback (most recent call last)",
      "Input \u001b[1;32mIn [1]\u001b[0m, in \u001b[0;36m<cell line: 40>\u001b[1;34m()\u001b[0m\n\u001b[0;32m     36\u001b[0m             pred \u001b[38;5;241m=\u001b[39m \u001b[38;5;241m0\u001b[39m\n\u001b[0;32m     38\u001b[0m         \u001b[38;5;28;01mreturn\u001b[39;00m pred\n\u001b[1;32m---> 40\u001b[0m myLSTMmodel \u001b[38;5;241m=\u001b[39m \u001b[43mClassifierLSTM\u001b[49m\u001b[43m(\u001b[49m\u001b[43m)\u001b[49m\n\u001b[0;32m     42\u001b[0m input_line \u001b[38;5;241m=\u001b[39m \u001b[38;5;124m'\u001b[39m\u001b[38;5;124mизделия прочие пластмасс изделия прочих материалов товарных позиций 3901 3914 прочие прочие прочие прочие\u001b[39m\u001b[38;5;124m'\u001b[39m \n\u001b[0;32m     43\u001b[0m res \u001b[38;5;241m=\u001b[39m myLSTMmodel\u001b[38;5;241m.\u001b[39mpredict(input_line)\n",
      "Input \u001b[1;32mIn [1]\u001b[0m, in \u001b[0;36mClassifierLSTM.__init__\u001b[1;34m(self)\u001b[0m\n\u001b[0;32m     24\u001b[0m     \u001b[38;5;28mself\u001b[39m\u001b[38;5;241m.\u001b[39mtokenizer \u001b[38;5;241m=\u001b[39m tokenizer_from_json(data)\n\u001b[0;32m     26\u001b[0m \u001b[38;5;28mself\u001b[39m\u001b[38;5;241m.\u001b[39mencoder \u001b[38;5;241m=\u001b[39m LabelEncoder()\n\u001b[1;32m---> 27\u001b[0m \u001b[38;5;28mself\u001b[39m\u001b[38;5;241m.\u001b[39mencoder\u001b[38;5;241m.\u001b[39mclasses_ \u001b[38;5;241m=\u001b[39m \u001b[43mnp\u001b[49m\u001b[38;5;241;43m.\u001b[39;49m\u001b[43mload\u001b[49m\u001b[43m(\u001b[49m\u001b[38;5;124;43m'\u001b[39;49m\u001b[38;5;124;43mencoder_classes.npy\u001b[39;49m\u001b[38;5;124;43m'\u001b[39;49m\u001b[43m)\u001b[49m\n",
      "File \u001b[1;32m~\\miniconda3\\envs\\testerpipeline\\lib\\site-packages\\numpy\\lib\\npyio.py:407\u001b[0m, in \u001b[0;36mload\u001b[1;34m(file, mmap_mode, allow_pickle, fix_imports, encoding)\u001b[0m\n\u001b[0;32m    405\u001b[0m     own_fid \u001b[38;5;241m=\u001b[39m \u001b[38;5;28;01mFalse\u001b[39;00m\n\u001b[0;32m    406\u001b[0m \u001b[38;5;28;01melse\u001b[39;00m:\n\u001b[1;32m--> 407\u001b[0m     fid \u001b[38;5;241m=\u001b[39m stack\u001b[38;5;241m.\u001b[39menter_context(\u001b[38;5;28;43mopen\u001b[39;49m\u001b[43m(\u001b[49m\u001b[43mos_fspath\u001b[49m\u001b[43m(\u001b[49m\u001b[43mfile\u001b[49m\u001b[43m)\u001b[49m\u001b[43m,\u001b[49m\u001b[43m \u001b[49m\u001b[38;5;124;43m\"\u001b[39;49m\u001b[38;5;124;43mrb\u001b[39;49m\u001b[38;5;124;43m\"\u001b[39;49m\u001b[43m)\u001b[49m)\n\u001b[0;32m    408\u001b[0m     own_fid \u001b[38;5;241m=\u001b[39m \u001b[38;5;28;01mTrue\u001b[39;00m\n\u001b[0;32m    410\u001b[0m \u001b[38;5;66;03m# Code to distinguish from NumPy binary files and pickles.\u001b[39;00m\n",
      "\u001b[1;31mFileNotFoundError\u001b[0m: [Errno 2] No such file or directory: 'encoder_classes.npy'"
     ]
    }
   ],
   "source": [
    "import keras\n",
    "import numpy as np\n",
    "from sklearn.preprocessing import LabelEncoder\n",
    "from keras.models import Sequential, model_from_json\n",
    "from keras.layers import Dense, Embedding, LSTM\n",
    "from keras.preprocessing.sequence import pad_sequences\n",
    "from keras.preprocessing.text import tokenizer_from_json\n",
    "import json\n",
    "\n",
    "class ClassifierLSTM:\n",
    "    \n",
    "    def __init__(self):\n",
    "        # load json and create model\n",
    "        json_file = open('lstm_2_digits.json', 'r')\n",
    "        loaded_model_json = json_file.read()\n",
    "        json_file.close()\n",
    "        loaded_model = model_from_json(loaded_model_json)\n",
    "        # load weights into new model\n",
    "        loaded_model.load_weights(\"lstm_2_digits.h5\")\n",
    "        print(\"Loaded model from disk\")\n",
    "        \n",
    "        with open('lstm_tokenizer.json') as f:\n",
    "            data = json.load(f)\n",
    "            self.tokenizer = tokenizer_from_json(data)\n",
    "        \n",
    "        self.encoder = LabelEncoder()\n",
    "        self.encoder.classes_ = np.load('lstm_encoder_classes.npy')\n",
    "        \n",
    "    def predict(self, line):\n",
    "        text_sec = self.tokenizer.texts_to_sequences([input_line])\n",
    "        text_sec = pad_sequences(text_sec, maxlen=69)\n",
    "        pred = self.model.predict(text_sec, batch_size=1, verbose=1)\n",
    "        pred = np.argmax(pred,axis=1)\n",
    "        pred = self.encoder.inverse_transform(pred) - 1\n",
    "        if pred < 0:\n",
    "            pred = 0\n",
    "        \n",
    "        return pred\n",
    "        \n",
    "myLSTMmodel = ClassifierLSTM()\n",
    "\n",
    "input_line = 'изделия прочие пластмасс изделия прочих материалов товарных позиций 3901 3914 прочие прочие прочие прочие' \n",
    "res = myLSTMmodel.predict(input_line)\n",
    "print(res)\n",
    "\n",
    "input_line = 'прочие семена плоды прочих масличных культур'\n",
    "res = myLSTMmodel.predict(input_line)\n",
    "print(res)"
   ]
  },
  {
   "cell_type": "code",
   "execution_count": null,
   "id": "0eb72081-776c-4eea-be88-a4920cf97674",
   "metadata": {},
   "outputs": [],
   "source": []
  }
 ],
 "metadata": {
  "kernelspec": {
   "display_name": "Python 3 (ipykernel)",
   "language": "python",
   "name": "python3"
  },
  "language_info": {
   "codemirror_mode": {
    "name": "ipython",
    "version": 3
   },
   "file_extension": ".py",
   "mimetype": "text/x-python",
   "name": "python",
   "nbconvert_exporter": "python",
   "pygments_lexer": "ipython3",
   "version": "3.8.10"
  }
 },
 "nbformat": 4,
 "nbformat_minor": 5
}
