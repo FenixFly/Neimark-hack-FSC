{
 "cells": [
  {
   "cell_type": "markdown",
   "id": "9a9a6f26",
   "metadata": {},
   "source": [
    "# Классификация текста с помощью трансформера BERT\n",
    "\n",
    "Оригинальная идея подчерпнута отсюда https://www.kaggle.com/c/learn-ai-bbc и отсюда https://habr.com/ru/post/655517/\n",
    "\n",
    "\n",
    "### Импорт библиотек"
   ]
  },
  {
   "cell_type": "code",
   "execution_count": 93,
   "id": "d39fafd3",
   "metadata": {},
   "outputs": [
    {
     "name": "stdout",
     "output_type": "stream",
     "text": [
      "cuda\n"
     ]
    }
   ],
   "source": [
    "import re\n",
    "import os\n",
    "import numpy as np\n",
    "import pandas as pd\n",
    "from tqdm import tqdm\n",
    "from sklearn.model_selection import train_test_split\n",
    "from sklearn.metrics import classification_report, f1_score\n",
    "\n",
    "import torch\n",
    "import transformers\n",
    "import torch.nn as nn\n",
    "from transformers import AutoModel, BertTokenizer, BertForSequenceClassification\n",
    "from torch.utils.data import TensorDataset, DataLoader, RandomSampler, SequentialSampler\n",
    "\n",
    "from bs4 import BeautifulSoup\n",
    "import pickle\n",
    "\n",
    "\n",
    "tqdm.pandas()\n",
    "\n",
    "device = torch.device('cuda')\n",
    "print(device)"
   ]
  },
  {
   "cell_type": "markdown",
   "id": "95057457",
   "metadata": {},
   "source": [
    "### Чтение нашего датасета, состоящего описаний категорий и ТНВЭД\n"
   ]
  },
  {
   "cell_type": "code",
   "execution_count": 78,
   "id": "a26168e9",
   "metadata": {},
   "outputs": [
    {
     "data": {
      "text/html": [
       "<div>\n",
       "<style scoped>\n",
       "    .dataframe tbody tr th:only-of-type {\n",
       "        vertical-align: middle;\n",
       "    }\n",
       "\n",
       "    .dataframe tbody tr th {\n",
       "        vertical-align: top;\n",
       "    }\n",
       "\n",
       "    .dataframe thead th {\n",
       "        text-align: right;\n",
       "    }\n",
       "</style>\n",
       "<table border=\"1\" class=\"dataframe\">\n",
       "  <thead>\n",
       "    <tr style=\"text-align: right;\">\n",
       "      <th></th>\n",
       "      <th>OPISANIE_CLEAN</th>\n",
       "      <th>TNVED</th>\n",
       "      <th>TNVED2</th>\n",
       "    </tr>\n",
       "  </thead>\n",
       "  <tbody>\n",
       "    <tr>\n",
       "      <th>0</th>\n",
       "      <td>части принадлежности аппаратуры поз 9025 военн...</td>\n",
       "      <td>9025</td>\n",
       "      <td>90</td>\n",
       "    </tr>\n",
       "    <tr>\n",
       "      <th>1</th>\n",
       "      <td>трансформаторы мощностью 1 ква 16 ква лом элек...</td>\n",
       "      <td>8504</td>\n",
       "      <td>85</td>\n",
       "    </tr>\n",
       "    <tr>\n",
       "      <th>2</th>\n",
       "      <td>клапаны запорные стали военного назначения</td>\n",
       "      <td>8481</td>\n",
       "      <td>84</td>\n",
       "    </tr>\n",
       "    <tr>\n",
       "      <th>3</th>\n",
       "      <td>устройства сигнализационные охранные устройств...</td>\n",
       "      <td>8531</td>\n",
       "      <td>85</td>\n",
       "    </tr>\n",
       "    <tr>\n",
       "      <th>4</th>\n",
       "      <td>вещества поверхностно активные органические ан...</td>\n",
       "      <td>3402</td>\n",
       "      <td>34</td>\n",
       "    </tr>\n",
       "    <tr>\n",
       "      <th>...</th>\n",
       "      <td>...</td>\n",
       "      <td>...</td>\n",
       "      <td>...</td>\n",
       "    </tr>\n",
       "    <tr>\n",
       "      <th>4177894</th>\n",
       "      <td>минеральное моторное масло всесезонное дизельн...</td>\n",
       "      <td>2710</td>\n",
       "      <td>27</td>\n",
       "    </tr>\n",
       "    <tr>\n",
       "      <th>4177895</th>\n",
       "      <td>синтетическое моторное масло всесезонное дизел...</td>\n",
       "      <td>3403</td>\n",
       "      <td>34</td>\n",
       "    </tr>\n",
       "    <tr>\n",
       "      <th>4177896</th>\n",
       "      <td>синтетическое моторное масло всесезонное дизел...</td>\n",
       "      <td>3403</td>\n",
       "      <td>34</td>\n",
       "    </tr>\n",
       "    <tr>\n",
       "      <th>4177897</th>\n",
       "      <td>масло трансмиссионное синтетической основе сод...</td>\n",
       "      <td>3403</td>\n",
       "      <td>34</td>\n",
       "    </tr>\n",
       "    <tr>\n",
       "      <th>4177898</th>\n",
       "      <td>масло трансмиссионное синтетической основе сод...</td>\n",
       "      <td>3403</td>\n",
       "      <td>34</td>\n",
       "    </tr>\n",
       "  </tbody>\n",
       "</table>\n",
       "<p>4177899 rows × 3 columns</p>\n",
       "</div>"
      ],
      "text/plain": [
       "                                            OPISANIE_CLEAN  TNVED  TNVED2\n",
       "0        части принадлежности аппаратуры поз 9025 военн...   9025      90\n",
       "1        трансформаторы мощностью 1 ква 16 ква лом элек...   8504      85\n",
       "2               клапаны запорные стали военного назначения   8481      84\n",
       "3        устройства сигнализационные охранные устройств...   8531      85\n",
       "4        вещества поверхностно активные органические ан...   3402      34\n",
       "...                                                    ...    ...     ...\n",
       "4177894  минеральное моторное масло всесезонное дизельн...   2710      27\n",
       "4177895  синтетическое моторное масло всесезонное дизел...   3403      34\n",
       "4177896  синтетическое моторное масло всесезонное дизел...   3403      34\n",
       "4177897  масло трансмиссионное синтетической основе сод...   3403      34\n",
       "4177898  масло трансмиссионное синтетической основе сод...   3403      34\n",
       "\n",
       "[4177899 rows x 3 columns]"
      ]
     },
     "metadata": {},
     "output_type": "display_data"
    }
   ],
   "source": [
    "df = pd.read_csv('dataset.csv', index_col=0)\n",
    "display(df)"
   ]
  },
  {
   "cell_type": "code",
   "execution_count": 79,
   "id": "da77ee85",
   "metadata": {},
   "outputs": [
    {
     "data": {
      "text/html": [
       "<div>\n",
       "<style scoped>\n",
       "    .dataframe tbody tr th:only-of-type {\n",
       "        vertical-align: middle;\n",
       "    }\n",
       "\n",
       "    .dataframe tbody tr th {\n",
       "        vertical-align: top;\n",
       "    }\n",
       "\n",
       "    .dataframe thead th {\n",
       "        text-align: right;\n",
       "    }\n",
       "</style>\n",
       "<table border=\"1\" class=\"dataframe\">\n",
       "  <thead>\n",
       "    <tr style=\"text-align: right;\">\n",
       "      <th></th>\n",
       "      <th>OPISANIE_CLEAN</th>\n",
       "      <th>TNVED</th>\n",
       "      <th>TNVED2</th>\n",
       "    </tr>\n",
       "    <tr>\n",
       "      <th></th>\n",
       "      <th></th>\n",
       "      <th></th>\n",
       "      <th></th>\n",
       "    </tr>\n",
       "  </thead>\n",
       "  <tbody>\n",
       "    <tr>\n",
       "      <th>1</th>\n",
       "      <td>лошади живые чистопородные племенные животные</td>\n",
       "      <td>101</td>\n",
       "      <td>1</td>\n",
       "    </tr>\n",
       "    <tr>\n",
       "      <th>2</th>\n",
       "      <td>лошади ослы мулы лошаки живые прочие</td>\n",
       "      <td>101</td>\n",
       "      <td>1</td>\n",
       "    </tr>\n",
       "    <tr>\n",
       "      <th>3</th>\n",
       "      <td>прочие лошади живые прочие</td>\n",
       "      <td>101</td>\n",
       "      <td>1</td>\n",
       "    </tr>\n",
       "    <tr>\n",
       "      <th>4</th>\n",
       "      <td>ослы живые</td>\n",
       "      <td>101</td>\n",
       "      <td>1</td>\n",
       "    </tr>\n",
       "    <tr>\n",
       "      <th>5</th>\n",
       "      <td>прочие мулы лошаки живые</td>\n",
       "      <td>101</td>\n",
       "      <td>1</td>\n",
       "    </tr>\n",
       "    <tr>\n",
       "      <th>...</th>\n",
       "      <td>...</td>\n",
       "      <td>...</td>\n",
       "      <td>...</td>\n",
       "    </tr>\n",
       "    <tr>\n",
       "      <th>12318</th>\n",
       "      <td>подлинники гравюр эстампов литографий</td>\n",
       "      <td>9702</td>\n",
       "      <td>97</td>\n",
       "    </tr>\n",
       "    <tr>\n",
       "      <th>12319</th>\n",
       "      <td>подлинники скульптур статуэток любых материалов</td>\n",
       "      <td>9703</td>\n",
       "      <td>97</td>\n",
       "    </tr>\n",
       "    <tr>\n",
       "      <th>12320</th>\n",
       "      <td>марки почтовые марки госпошлин знаки почтовой ...</td>\n",
       "      <td>9704</td>\n",
       "      <td>97</td>\n",
       "    </tr>\n",
       "    <tr>\n",
       "      <th>12321</th>\n",
       "      <td>коллекции предметы коллекционирования зоологии...</td>\n",
       "      <td>9705</td>\n",
       "      <td>97</td>\n",
       "    </tr>\n",
       "    <tr>\n",
       "      <th>12322</th>\n",
       "      <td>антиквариат возрастом 100 лет</td>\n",
       "      <td>9706</td>\n",
       "      <td>97</td>\n",
       "    </tr>\n",
       "  </tbody>\n",
       "</table>\n",
       "<p>12322 rows × 3 columns</p>\n",
       "</div>"
      ],
      "text/plain": [
       "                                          OPISANIE_CLEAN  TNVED  TNVED2\n",
       "                                                                       \n",
       "1          лошади живые чистопородные племенные животные    101       1\n",
       "2                   лошади ослы мулы лошаки живые прочие    101       1\n",
       "3                             прочие лошади живые прочие    101       1\n",
       "4                                             ослы живые    101       1\n",
       "5                               прочие мулы лошаки живые    101       1\n",
       "...                                                  ...    ...     ...\n",
       "12318              подлинники гравюр эстампов литографий   9702      97\n",
       "12319    подлинники скульптур статуэток любых материалов   9703      97\n",
       "12320  марки почтовые марки госпошлин знаки почтовой ...   9704      97\n",
       "12321  коллекции предметы коллекционирования зоологии...   9705      97\n",
       "12322                      антиквариат возрастом 100 лет   9706      97\n",
       "\n",
       "[12322 rows x 3 columns]"
      ]
     },
     "metadata": {},
     "output_type": "display_data"
    }
   ],
   "source": [
    "df2 = pd.read_csv('tnved.csv', index_col=0)\n",
    "df2 = df2.rename(columns={'TNVED_SHORT': 'TNVED'})\n",
    "display(df2)"
   ]
  },
  {
   "cell_type": "code",
   "execution_count": 204,
   "id": "31d8895b",
   "metadata": {},
   "outputs": [
    {
     "data": {
      "text/html": [
       "<div>\n",
       "<style scoped>\n",
       "    .dataframe tbody tr th:only-of-type {\n",
       "        vertical-align: middle;\n",
       "    }\n",
       "\n",
       "    .dataframe tbody tr th {\n",
       "        vertical-align: top;\n",
       "    }\n",
       "\n",
       "    .dataframe thead th {\n",
       "        text-align: right;\n",
       "    }\n",
       "</style>\n",
       "<table border=\"1\" class=\"dataframe\">\n",
       "  <thead>\n",
       "    <tr style=\"text-align: right;\">\n",
       "      <th></th>\n",
       "      <th>OPISANIE_CLEAN</th>\n",
       "      <th>TNVED</th>\n",
       "      <th>TNVED2</th>\n",
       "    </tr>\n",
       "  </thead>\n",
       "  <tbody>\n",
       "    <tr>\n",
       "      <th>2554207</th>\n",
       "      <td>устройства вычислительных машин отладочная пла...</td>\n",
       "      <td>8471</td>\n",
       "      <td>84</td>\n",
       "    </tr>\n",
       "    <tr>\n",
       "      <th>706914</th>\n",
       "      <td>бюстгальтеры женские рост 185 см обхват груди ...</td>\n",
       "      <td>6212</td>\n",
       "      <td>62</td>\n",
       "    </tr>\n",
       "    <tr>\n",
       "      <th>1817482</th>\n",
       "      <td>электрические части оборудования</td>\n",
       "      <td>8548</td>\n",
       "      <td>85</td>\n",
       "    </tr>\n",
       "    <tr>\n",
       "      <th>3212186</th>\n",
       "      <td>пиловочник осиновый тополь дрожащий осина popu...</td>\n",
       "      <td>4403</td>\n",
       "      <td>44</td>\n",
       "    </tr>\n",
       "    <tr>\n",
       "      <th>1231522</th>\n",
       "      <td>принадлежности рыбной ловли блесна вращающаяся...</td>\n",
       "      <td>9507</td>\n",
       "      <td>95</td>\n",
       "    </tr>\n",
       "    <tr>\n",
       "      <th>...</th>\n",
       "      <td>...</td>\n",
       "      <td>...</td>\n",
       "      <td>...</td>\n",
       "    </tr>\n",
       "    <tr>\n",
       "      <th>12318</th>\n",
       "      <td>подлинники гравюр эстампов литографий</td>\n",
       "      <td>9702</td>\n",
       "      <td>97</td>\n",
       "    </tr>\n",
       "    <tr>\n",
       "      <th>12319</th>\n",
       "      <td>подлинники скульптур статуэток любых материалов</td>\n",
       "      <td>9703</td>\n",
       "      <td>97</td>\n",
       "    </tr>\n",
       "    <tr>\n",
       "      <th>12320</th>\n",
       "      <td>марки почтовые марки госпошлин знаки почтовой ...</td>\n",
       "      <td>9704</td>\n",
       "      <td>97</td>\n",
       "    </tr>\n",
       "    <tr>\n",
       "      <th>12321</th>\n",
       "      <td>коллекции предметы коллекционирования зоологии...</td>\n",
       "      <td>9705</td>\n",
       "      <td>97</td>\n",
       "    </tr>\n",
       "    <tr>\n",
       "      <th>12322</th>\n",
       "      <td>антиквариат возрастом 100 лет</td>\n",
       "      <td>9706</td>\n",
       "      <td>97</td>\n",
       "    </tr>\n",
       "  </tbody>\n",
       "</table>\n",
       "<p>221217 rows × 3 columns</p>\n",
       "</div>"
      ],
      "text/plain": [
       "                                            OPISANIE_CLEAN  TNVED  TNVED2\n",
       "2554207  устройства вычислительных машин отладочная пла...   8471      84\n",
       "706914   бюстгальтеры женские рост 185 см обхват груди ...   6212      62\n",
       "1817482                   электрические части оборудования   8548      85\n",
       "3212186  пиловочник осиновый тополь дрожащий осина popu...   4403      44\n",
       "1231522  принадлежности рыбной ловли блесна вращающаяся...   9507      95\n",
       "...                                                    ...    ...     ...\n",
       "12318                подлинники гравюр эстампов литографий   9702      97\n",
       "12319      подлинники скульптур статуэток любых материалов   9703      97\n",
       "12320    марки почтовые марки госпошлин знаки почтовой ...   9704      97\n",
       "12321    коллекции предметы коллекционирования зоологии...   9705      97\n",
       "12322                        антиквариат возрастом 100 лет   9706      97\n",
       "\n",
       "[221217 rows x 3 columns]"
      ]
     },
     "metadata": {},
     "output_type": "display_data"
    }
   ],
   "source": [
    "df_train = df.sample(frac=.05, random_state=111, weights='TNVED')\n",
    "df_train = pd.concat([df_train,df2])\n",
    "display(df_train)"
   ]
  },
  {
   "cell_type": "code",
   "execution_count": 205,
   "id": "a74e14b9",
   "metadata": {},
   "outputs": [
    {
     "data": {
      "text/html": [
       "<div>\n",
       "<style scoped>\n",
       "    .dataframe tbody tr th:only-of-type {\n",
       "        vertical-align: middle;\n",
       "    }\n",
       "\n",
       "    .dataframe tbody tr th {\n",
       "        vertical-align: top;\n",
       "    }\n",
       "\n",
       "    .dataframe thead th {\n",
       "        text-align: right;\n",
       "    }\n",
       "</style>\n",
       "<table border=\"1\" class=\"dataframe\">\n",
       "  <thead>\n",
       "    <tr style=\"text-align: right;\">\n",
       "      <th></th>\n",
       "      <th>OPISANIE_CLEAN</th>\n",
       "      <th>TNVED</th>\n",
       "      <th>TNVED2</th>\n",
       "    </tr>\n",
       "  </thead>\n",
       "  <tbody>\n",
       "    <tr>\n",
       "      <th>2554207</th>\n",
       "      <td>устройства вычислительных машин отладочная пла...</td>\n",
       "      <td>8471</td>\n",
       "      <td>84</td>\n",
       "    </tr>\n",
       "    <tr>\n",
       "      <th>706914</th>\n",
       "      <td>бюстгальтеры женские рост 185 см обхват груди ...</td>\n",
       "      <td>6212</td>\n",
       "      <td>62</td>\n",
       "    </tr>\n",
       "    <tr>\n",
       "      <th>1817482</th>\n",
       "      <td>электрические части оборудования</td>\n",
       "      <td>8548</td>\n",
       "      <td>85</td>\n",
       "    </tr>\n",
       "    <tr>\n",
       "      <th>3212186</th>\n",
       "      <td>пиловочник осиновый тополь дрожащий осина popu...</td>\n",
       "      <td>4403</td>\n",
       "      <td>44</td>\n",
       "    </tr>\n",
       "    <tr>\n",
       "      <th>1231522</th>\n",
       "      <td>принадлежности рыбной ловли блесна вращающаяся...</td>\n",
       "      <td>9507</td>\n",
       "      <td>95</td>\n",
       "    </tr>\n",
       "    <tr>\n",
       "      <th>...</th>\n",
       "      <td>...</td>\n",
       "      <td>...</td>\n",
       "      <td>...</td>\n",
       "    </tr>\n",
       "    <tr>\n",
       "      <th>12311</th>\n",
       "      <td>моноопоры двуноги треноги аналогичные изделия ...</td>\n",
       "      <td>9620</td>\n",
       "      <td>96</td>\n",
       "    </tr>\n",
       "    <tr>\n",
       "      <th>12312</th>\n",
       "      <td>моноопоры двуноги треноги аналогичные изделия ...</td>\n",
       "      <td>9620</td>\n",
       "      <td>96</td>\n",
       "    </tr>\n",
       "    <tr>\n",
       "      <th>12313</th>\n",
       "      <td>моноопоры двуноги треноги аналогичные изделия ...</td>\n",
       "      <td>9620</td>\n",
       "      <td>96</td>\n",
       "    </tr>\n",
       "    <tr>\n",
       "      <th>12314</th>\n",
       "      <td>моноопоры двуноги треноги аналогичные изделия ...</td>\n",
       "      <td>9620</td>\n",
       "      <td>96</td>\n",
       "    </tr>\n",
       "    <tr>\n",
       "      <th>12315</th>\n",
       "      <td>прочие моноопоры двуноги треноги аналогичные и...</td>\n",
       "      <td>9620</td>\n",
       "      <td>96</td>\n",
       "    </tr>\n",
       "  </tbody>\n",
       "</table>\n",
       "<p>211875 rows × 3 columns</p>\n",
       "</div>"
      ],
      "text/plain": [
       "                                            OPISANIE_CLEAN  TNVED  TNVED2\n",
       "2554207  устройства вычислительных машин отладочная пла...   8471      84\n",
       "706914   бюстгальтеры женские рост 185 см обхват груди ...   6212      62\n",
       "1817482                   электрические части оборудования   8548      85\n",
       "3212186  пиловочник осиновый тополь дрожащий осина popu...   4403      44\n",
       "1231522  принадлежности рыбной ловли блесна вращающаяся...   9507      95\n",
       "...                                                    ...    ...     ...\n",
       "12311    моноопоры двуноги треноги аналогичные изделия ...   9620      96\n",
       "12312    моноопоры двуноги треноги аналогичные изделия ...   9620      96\n",
       "12313    моноопоры двуноги треноги аналогичные изделия ...   9620      96\n",
       "12314    моноопоры двуноги треноги аналогичные изделия ...   9620      96\n",
       "12315    прочие моноопоры двуноги треноги аналогичные и...   9620      96\n",
       "\n",
       "[211875 rows x 3 columns]"
      ]
     },
     "metadata": {},
     "output_type": "display_data"
    }
   ],
   "source": [
    "# delete small classes\n",
    "df_train = df_train[df_train.groupby('TNVED').TNVED.transform('count')>40].copy() \n",
    "display(df_train)\n"
   ]
  },
  {
   "cell_type": "code",
   "execution_count": 206,
   "id": "ef556cef",
   "metadata": {},
   "outputs": [
    {
     "name": "stdout",
     "output_type": "stream",
     "text": [
      "474 [ 203  207  302  303  304  305  306  307  403  406  602  603  709  805\n",
      "  806  808  810 1006 1104 1515 1602 1604 1605 1701 1704 1806 1901 1902\n",
      " 1905 2001 2004 2005 2007 2008 2009 2101 2103 2106 2202 2203 2204 2208\n",
      " 2309 2701 2710 2711 2803 2836 2903 2905 2915 2918 2921 2922 2933 3002\n",
      " 3004 3005 3006 3102 3105 3204 3206 3208 3209 3214 3215 3301 3302 3303\n",
      " 3304 3305 3306 3307 3401 3402 3403 3405 3505 3506 3808 3811 3814 3820\n",
      " 3822 3824 3901 3902 3903 3904 3905 3906 3907 3909 3910 3916 3917 3918\n",
      " 3919 3920 3921 3922 3923 3924 3925 3926 4002 4008 4009 4010 4011 4012\n",
      " 4015 4016 4202 4203 4302 4303 4401 4403 4407 4408 4409 4410 4411 4412\n",
      " 4415 4418 4419 4420 4421 4602 4703 4801 4802 4804 4805 4810 4811 4818\n",
      " 4819 4820 4821 4823 4901 4911 5205 5208 5401 5402 5407 5514 5601 5603\n",
      " 5607 5702 5703 5705 5801 5806 5903 5911 6001 6006 6101 6102 6103 6104\n",
      " 6105 6106 6107 6108 6109 6110 6111 6112 6113 6114 6115 6116 6117 6201\n",
      " 6202 6203 6204 6205 6206 6207 6208 6209 6210 6211 6212 6214 6216 6217\n",
      " 6301 6302 6303 6304 6305 6306 6307 6401 6402 6403 6404 6405 6406 6505\n",
      " 6506 6601 6702 6802 6804 6805 6806 6807 6810 6812 6813 6815 6903 6907\n",
      " 6910 6911 6912 6913 6914 7005 7007 7009 7010 7013 7017 7019 7020 7102\n",
      " 7113 7117 7202 7204 7205 7207 7208 7209 7210 7213 7214 7216 7217 7219\n",
      " 7222 7225 7228 7229 7304 7306 7307 7308 7309 7310 7311 7312 7314 7315\n",
      " 7317 7318 7320 7321 7322 7323 7324 7325 7326 7411 7412 7415 7418 7419\n",
      " 7601 7604 7606 7607 7608 7609 7610 7612 7615 7616 7907 8108 8112 8113\n",
      " 8201 8202 8203 8204 8205 8206 8207 8208 8209 8210 8211 8212 8213 8214\n",
      " 8215 8301 8302 8305 8306 8307 8308 8309 8310 8311 8403 8407 8408 8409\n",
      " 8411 8412 8413 8414 8415 8416 8418 8419 8421 8422 8423 8424 8425 8426\n",
      " 8427 8428 8429 8430 8431 8432 8433 8436 8438 8441 8443 8450 8451 8452\n",
      " 8456 8460 8462 8465 8466 8467 8470 8471 8472 8473 8474 8477 8479 8480\n",
      " 8481 8482 8483 8484 8487 8501 8502 8503 8504 8505 8506 8507 8508 8509\n",
      " 8510 8511 8512 8513 8514 8515 8516 8517 8518 8519 8521 8523 8525 8526\n",
      " 8527 8528 8529 8531 8532 8533 8534 8535 8536 8537 8538 8539 8541 8542\n",
      " 8543 8544 8545 8546 8547 8548 8607 8609 8701 8702 8703 8704 8705 8707\n",
      " 8708 8711 8714 8716 8802 9001 9002 9003 9004 9005 9011 9013 9014 9015\n",
      " 9017 9018 9019 9021 9022 9025 9026 9027 9028 9029 9030 9031 9032 9102\n",
      " 9105 9113 9114 9207 9209 9401 9402 9403 9404 9405 9406 9503 9504 9505\n",
      " 9506 9507 9603 9607 9608 9609 9613 9615 9616 9617 9619 9620]\n"
     ]
    }
   ],
   "source": [
    "all_tnved = np.unique(df_train['TNVED'])\n",
    "print(len(all_tnved), all_tnved)\n",
    "with open('new_keys.pickle', 'wb') as handle:\n",
    "    pickle.dump(tokens_train, handle, protocol=pickle.HIGHEST_PROTOCOL)"
   ]
  },
  {
   "cell_type": "code",
   "execution_count": 207,
   "id": "3474d3c3",
   "metadata": {},
   "outputs": [
    {
     "name": "stdout",
     "output_type": "stream",
     "text": [
      "473\n"
     ]
    }
   ],
   "source": [
    "print(int(np.where(all_tnved == 9620)[0]))"
   ]
  },
  {
   "cell_type": "markdown",
   "id": "625ad0b2",
   "metadata": {},
   "source": [
    "Make new keys"
   ]
  },
  {
   "cell_type": "code",
   "execution_count": 208,
   "id": "3d42b30f",
   "metadata": {},
   "outputs": [],
   "source": [
    "df_train['target']=df_train['TNVED'].apply(lambda x: int(np.where(all_tnved == x)[0]))"
   ]
  },
  {
   "cell_type": "code",
   "execution_count": 209,
   "id": "2018f4dc",
   "metadata": {},
   "outputs": [
    {
     "data": {
      "text/html": [
       "<div>\n",
       "<style scoped>\n",
       "    .dataframe tbody tr th:only-of-type {\n",
       "        vertical-align: middle;\n",
       "    }\n",
       "\n",
       "    .dataframe tbody tr th {\n",
       "        vertical-align: top;\n",
       "    }\n",
       "\n",
       "    .dataframe thead th {\n",
       "        text-align: right;\n",
       "    }\n",
       "</style>\n",
       "<table border=\"1\" class=\"dataframe\">\n",
       "  <thead>\n",
       "    <tr style=\"text-align: right;\">\n",
       "      <th></th>\n",
       "      <th>OPISANIE_CLEAN</th>\n",
       "      <th>TNVED</th>\n",
       "      <th>TNVED2</th>\n",
       "      <th>target</th>\n",
       "    </tr>\n",
       "  </thead>\n",
       "  <tbody>\n",
       "    <tr>\n",
       "      <th>2554207</th>\n",
       "      <td>устройства вычислительных машин отладочная пла...</td>\n",
       "      <td>8471</td>\n",
       "      <td>84</td>\n",
       "      <td>357</td>\n",
       "    </tr>\n",
       "    <tr>\n",
       "      <th>706914</th>\n",
       "      <td>бюстгальтеры женские рост 185 см обхват груди ...</td>\n",
       "      <td>6212</td>\n",
       "      <td>62</td>\n",
       "      <td>192</td>\n",
       "    </tr>\n",
       "    <tr>\n",
       "      <th>1817482</th>\n",
       "      <td>электрические части оборудования</td>\n",
       "      <td>8548</td>\n",
       "      <td>85</td>\n",
       "      <td>411</td>\n",
       "    </tr>\n",
       "    <tr>\n",
       "      <th>3212186</th>\n",
       "      <td>пиловочник осиновый тополь дрожащий осина popu...</td>\n",
       "      <td>4403</td>\n",
       "      <td>44</td>\n",
       "      <td>119</td>\n",
       "    </tr>\n",
       "    <tr>\n",
       "      <th>1231522</th>\n",
       "      <td>принадлежности рыбной ловли блесна вращающаяся...</td>\n",
       "      <td>9507</td>\n",
       "      <td>95</td>\n",
       "      <td>463</td>\n",
       "    </tr>\n",
       "    <tr>\n",
       "      <th>...</th>\n",
       "      <td>...</td>\n",
       "      <td>...</td>\n",
       "      <td>...</td>\n",
       "      <td>...</td>\n",
       "    </tr>\n",
       "    <tr>\n",
       "      <th>12311</th>\n",
       "      <td>моноопоры двуноги треноги аналогичные изделия ...</td>\n",
       "      <td>9620</td>\n",
       "      <td>96</td>\n",
       "      <td>473</td>\n",
       "    </tr>\n",
       "    <tr>\n",
       "      <th>12312</th>\n",
       "      <td>моноопоры двуноги треноги аналогичные изделия ...</td>\n",
       "      <td>9620</td>\n",
       "      <td>96</td>\n",
       "      <td>473</td>\n",
       "    </tr>\n",
       "    <tr>\n",
       "      <th>12313</th>\n",
       "      <td>моноопоры двуноги треноги аналогичные изделия ...</td>\n",
       "      <td>9620</td>\n",
       "      <td>96</td>\n",
       "      <td>473</td>\n",
       "    </tr>\n",
       "    <tr>\n",
       "      <th>12314</th>\n",
       "      <td>моноопоры двуноги треноги аналогичные изделия ...</td>\n",
       "      <td>9620</td>\n",
       "      <td>96</td>\n",
       "      <td>473</td>\n",
       "    </tr>\n",
       "    <tr>\n",
       "      <th>12315</th>\n",
       "      <td>прочие моноопоры двуноги треноги аналогичные и...</td>\n",
       "      <td>9620</td>\n",
       "      <td>96</td>\n",
       "      <td>473</td>\n",
       "    </tr>\n",
       "  </tbody>\n",
       "</table>\n",
       "<p>211875 rows × 4 columns</p>\n",
       "</div>"
      ],
      "text/plain": [
       "                                            OPISANIE_CLEAN  TNVED  TNVED2  \\\n",
       "2554207  устройства вычислительных машин отладочная пла...   8471      84   \n",
       "706914   бюстгальтеры женские рост 185 см обхват груди ...   6212      62   \n",
       "1817482                   электрические части оборудования   8548      85   \n",
       "3212186  пиловочник осиновый тополь дрожащий осина popu...   4403      44   \n",
       "1231522  принадлежности рыбной ловли блесна вращающаяся...   9507      95   \n",
       "...                                                    ...    ...     ...   \n",
       "12311    моноопоры двуноги треноги аналогичные изделия ...   9620      96   \n",
       "12312    моноопоры двуноги треноги аналогичные изделия ...   9620      96   \n",
       "12313    моноопоры двуноги треноги аналогичные изделия ...   9620      96   \n",
       "12314    моноопоры двуноги треноги аналогичные изделия ...   9620      96   \n",
       "12315    прочие моноопоры двуноги треноги аналогичные и...   9620      96   \n",
       "\n",
       "         target  \n",
       "2554207     357  \n",
       "706914      192  \n",
       "1817482     411  \n",
       "3212186     119  \n",
       "1231522     463  \n",
       "...         ...  \n",
       "12311       473  \n",
       "12312       473  \n",
       "12313       473  \n",
       "12314       473  \n",
       "12315       473  \n",
       "\n",
       "[211875 rows x 4 columns]"
      ]
     },
     "metadata": {},
     "output_type": "display_data"
    }
   ],
   "source": [
    "display(df_train)"
   ]
  },
  {
   "cell_type": "markdown",
   "id": "e46bbbc4",
   "metadata": {},
   "source": [
    "### Загрузка претренированной модели"
   ]
  },
  {
   "cell_type": "code",
   "execution_count": 185,
   "id": "a2c6315c",
   "metadata": {},
   "outputs": [],
   "source": [
    "bert = AutoModel.from_pretrained(\"DeepPavlov/rubert-base-cased-sentence\")\n",
    "\n",
    "tokenizer = BertTokenizer.from_pretrained(\"DeepPavlov/rubert-base-cased-sentence\")"
   ]
  },
  {
   "cell_type": "markdown",
   "id": "0dfcc4a9",
   "metadata": {},
   "source": [
    "### Разбиение выборок на текст и таргет"
   ]
  },
  {
   "cell_type": "code",
   "execution_count": null,
   "id": "5153d29d",
   "metadata": {},
   "outputs": [],
   "source": [
    "with open('X_train.pickle', 'rb') as handle:\n",
    "    X_train = pickle.load(handle)\n",
    "with open('y_train.pickle', 'rb') as handle:\n",
    "    y_train = pickle.load(handle)\n",
    "with open('X_test.pickle', 'rb') as handle:\n",
    "    X_test = pickle.load(handle)\n",
    "with open('y_test.pickle', 'rb') as handle:\n",
    "    y_test = pickle.load(handle)"
   ]
  },
  {
   "cell_type": "code",
   "execution_count": 210,
   "id": "c77cae29",
   "metadata": {},
   "outputs": [
    {
     "name": "stdout",
     "output_type": "stream",
     "text": [
      "(474,)\n",
      "(474,)\n"
     ]
    }
   ],
   "source": [
    "X = df_train['OPISANIE_CLEAN'].astype(str)\n",
    "y = df_train['target'].astype(int)\n",
    "\n",
    "X_train, y_train = X,y\n",
    "X_train, X_test, y_train, y_test = train_test_split(X, y, test_size=0.2, random_state=111)\n",
    "\n",
    "print(np.unique(y_train).shape)\n",
    "print(np.unique(y_test).shape)"
   ]
  },
  {
   "cell_type": "code",
   "execution_count": 211,
   "id": "0a085bd7",
   "metadata": {},
   "outputs": [],
   "source": [
    "with open('X_train.pickle', 'wb') as handle:\n",
    "    pickle.dump(X_train, handle, protocol=pickle.HIGHEST_PROTOCOL)\n",
    "with open('y_train.pickle', 'wb') as handle:\n",
    "    pickle.dump(y_train, handle, protocol=pickle.HIGHEST_PROTOCOL)\n",
    "with open('X_test.pickle', 'wb') as handle:\n",
    "    pickle.dump(X_test, handle, protocol=pickle.HIGHEST_PROTOCOL)\n",
    "with open('y_test.pickle', 'wb') as handle:\n",
    "    pickle.dump(y_test, handle, protocol=pickle.HIGHEST_PROTOCOL)"
   ]
  },
  {
   "cell_type": "markdown",
   "id": "918932c7",
   "metadata": {},
   "source": [
    "График длин текстов. Он поможет определить оптимальную длину последовательности токенов, чтобы избежать разреженных векторов."
   ]
  },
  {
   "cell_type": "code",
   "execution_count": 212,
   "id": "9be37d1a",
   "metadata": {},
   "outputs": [
    {
     "data": {
      "text/plain": [
       "<AxesSubplot:>"
      ]
     },
     "execution_count": 212,
     "metadata": {},
     "output_type": "execute_result"
    },
    {
     "data": {
      "image/png": "[encoded data removed]",
      "text/plain": [
       "<Figure size 432x288 with 1 Axes>"
      ]
     },
     "metadata": {
      "needs_background": "light"
     },
     "output_type": "display_data"
    }
   ],
   "source": [
    "seq_len = [len(str(i).split()) for i in X_train]\n",
    "pd.Series(seq_len).hist(bins = 40, range =(0,40))"
   ]
  },
  {
   "cell_type": "markdown",
   "id": "7939a47d",
   "metadata": {},
   "source": [
    "### Токенизация текста\n",
    "Берем длину 15"
   ]
  },
  {
   "cell_type": "code",
   "execution_count": 9,
   "id": "28c53736",
   "metadata": {},
   "outputs": [],
   "source": [
    "with open('tokens_train.pickle', 'rb') as handle:\n",
    "    tokens_train = pickle.load(handle)\n",
    "    \n",
    "with open('tokens_test.pickle', 'rb') as handle:\n",
    "    tokens_test = pickle.load(handle)"
   ]
  },
  {
   "cell_type": "code",
   "execution_count": 213,
   "id": "6630bf7e",
   "metadata": {},
   "outputs": [],
   "source": [
    "token_len = 15\n",
    "\n",
    "tokens_train = tokenizer.batch_encode_plus(\n",
    "    X_train.values,\n",
    "    max_length = token_len,\n",
    "    padding = 'max_length',\n",
    "    truncation = True\n",
    ")\n",
    "tokens_test = tokenizer.batch_encode_plus(\n",
    "    X_test.values,\n",
    "    max_length = token_len,\n",
    "    padding = 'max_length',\n",
    "    truncation = True\n",
    ")"
   ]
  },
  {
   "cell_type": "code",
   "execution_count": 214,
   "id": "12142502",
   "metadata": {},
   "outputs": [],
   "source": [
    "with open('tokens_train.pickle', 'wb') as handle:\n",
    "    pickle.dump(tokens_train, handle, protocol=pickle.HIGHEST_PROTOCOL)\n",
    "\n",
    "with open('tokens_test.pickle', 'wb') as handle:\n",
    "    pickle.dump(tokens_test, handle, protocol=pickle.HIGHEST_PROTOCOL)\n"
   ]
  },
  {
   "cell_type": "markdown",
   "id": "3e4aae7f",
   "metadata": {},
   "source": [
    "### Создание датасета для обучения из токенов"
   ]
  },
  {
   "cell_type": "code",
   "execution_count": 215,
   "id": "91002887",
   "metadata": {},
   "outputs": [],
   "source": [
    "batch_size = 4\n",
    "\n",
    "\n",
    "train_seq = torch.tensor(tokens_train['input_ids'])\n",
    "train_mask = torch.tensor(tokens_train['attention_mask'])\n",
    "train_y = torch.tensor(y_train.values)\n",
    "\n",
    "test_seq = torch.tensor(tokens_test['input_ids'])\n",
    "test_mask = torch.tensor(tokens_test['attention_mask'])\n",
    "test_y = torch.tensor(y_test.values)\n",
    "\n",
    "train_data = TensorDataset(train_seq, train_mask, train_y)\n",
    "train_sampler = RandomSampler(train_data)\n",
    "train_dataloader = DataLoader(train_data, sampler = train_sampler, batch_size = batch_size)\n",
    "\n",
    "test_data =  TensorDataset(test_seq, test_mask, test_y)\n",
    "test_sampler = SequentialSampler(test_data)\n",
    "test_dataloader = DataLoader(test_data, sampler = test_sampler, batch_size = batch_size)"
   ]
  },
  {
   "cell_type": "code",
   "execution_count": null,
   "id": "0f7ed436",
   "metadata": {},
   "outputs": [],
   "source": []
  },
  {
   "cell_type": "code",
   "execution_count": null,
   "id": "badc2949",
   "metadata": {},
   "outputs": [],
   "source": [
    "print(test_data[0])"
   ]
  },
  {
   "cell_type": "markdown",
   "id": "d3b7b865",
   "metadata": {},
   "source": [
    "### Вместо обучения всего BERT добавим слой для классификации"
   ]
  },
  {
   "cell_type": "code",
   "execution_count": 216,
   "id": "7a5b77a8",
   "metadata": {},
   "outputs": [],
   "source": [
    "for param in bert.parameters():\n",
    "    param.requires_grad = False\n",
    "\n",
    "class BERT_Arch(nn.Module):\n",
    "    \n",
    "    def __init__(self, bert):\n",
    "        super(BERT_Arch, self).__init__()\n",
    "        self.bert = bert\n",
    "        self.dropout = nn.Dropout(0.1)\n",
    "        self.relu = nn.ReLU()\n",
    "        self.fc1 = nn.Linear(768,512)\n",
    "        self.fc2 = nn.Linear(512,474)\n",
    "        self.softmax = nn.LogSoftmax(dim = 1)\n",
    "    \n",
    "    def forward(self, sent_id, mask):\n",
    "        _, cls_hs = self.bert(sent_id, attention_mask = mask, return_dict = False)\n",
    "        x = self.fc1(cls_hs)\n",
    "        x = self.relu(x)\n",
    "        x = self.dropout(x)\n",
    "        x = self.fc2(x)\n",
    "        x = self.softmax(x)\n",
    "        return x"
   ]
  },
  {
   "cell_type": "markdown",
   "id": "86f77ad4",
   "metadata": {},
   "source": [
    "### Загрузка модели в GPU"
   ]
  },
  {
   "cell_type": "code",
   "execution_count": 15,
   "id": "e449b394",
   "metadata": {},
   "outputs": [],
   "source": [
    "torch.cuda.empty_cache()"
   ]
  },
  {
   "cell_type": "code",
   "execution_count": 217,
   "id": "10444267",
   "metadata": {},
   "outputs": [],
   "source": [
    "model = BERT_Arch(bert)\n",
    "\n",
    "model = model.to(device)\n",
    "from torch.optim import AdamW\n",
    "\n",
    "optimizer = AdamW(model.parameters())"
   ]
  },
  {
   "cell_type": "markdown",
   "id": "0beea7be",
   "metadata": {},
   "source": [
    "### Нормализация весов в зависимости от соотношения классов в выборке трейна"
   ]
  },
  {
   "cell_type": "code",
   "execution_count": 218,
   "id": "51ef720a",
   "metadata": {},
   "outputs": [
    {
     "name": "stderr",
     "output_type": "stream",
     "text": [
      "/home/eugene/miniconda3/envs/pytorch/lib/python3.9/site-packages/sklearn/utils/validation.py:67: FutureWarning: Pass classes=[  0   1   2   3   4   5   6   7   8   9  10  11  12  13  14  15  16  17\n",
      "  18  19  20  21  22  23  24  25  26  27  28  29  30  31  32  33  34  35\n",
      "  36  37  38  39  40  41  42  43  44  45  46  47  48  49  50  51  52  53\n",
      "  54  55  56  57  58  59  60  61  62  63  64  65  66  67  68  69  70  71\n",
      "  72  73  74  75  76  77  78  79  80  81  82  83  84  85  86  87  88  89\n",
      "  90  91  92  93  94  95  96  97  98  99 100 101 102 103 104 105 106 107\n",
      " 108 109 110 111 112 113 114 115 116 117 118 119 120 121 122 123 124 125\n",
      " 126 127 128 129 130 131 132 133 134 135 136 137 138 139 140 141 142 143\n",
      " 144 145 146 147 148 149 150 151 152 153 154 155 156 157 158 159 160 161\n",
      " 162 163 164 165 166 167 168 169 170 171 172 173 174 175 176 177 178 179\n",
      " 180 181 182 183 184 185 186 187 188 189 190 191 192 193 194 195 196 197\n",
      " 198 199 200 201 202 203 204 205 206 207 208 209 210 211 212 213 214 215\n",
      " 216 217 218 219 220 221 222 223 224 225 226 227 228 229 230 231 232 233\n",
      " 234 235 236 237 238 239 240 241 242 243 244 245 246 247 248 249 250 251\n",
      " 252 253 254 255 256 257 258 259 260 261 262 263 264 265 266 267 268 269\n",
      " 270 271 272 273 274 275 276 277 278 279 280 281 282 283 284 285 286 287\n",
      " 288 289 290 291 292 293 294 295 296 297 298 299 300 301 302 303 304 305\n",
      " 306 307 308 309 310 311 312 313 314 315 316 317 318 319 320 321 322 323\n",
      " 324 325 326 327 328 329 330 331 332 333 334 335 336 337 338 339 340 341\n",
      " 342 343 344 345 346 347 348 349 350 351 352 353 354 355 356 357 358 359\n",
      " 360 361 362 363 364 365 366 367 368 369 370 371 372 373 374 375 376 377\n",
      " 378 379 380 381 382 383 384 385 386 387 388 389 390 391 392 393 394 395\n",
      " 396 397 398 399 400 401 402 403 404 405 406 407 408 409 410 411 412 413\n",
      " 414 415 416 417 418 419 420 421 422 423 424 425 426 427 428 429 430 431\n",
      " 432 433 434 435 436 437 438 439 440 441 442 443 444 445 446 447 448 449\n",
      " 450 451 452 453 454 455 456 457 458 459 460 461 462 463 464 465 466 467\n",
      " 468 469 470 471 472 473], y=1581193    124\n",
      "1699576    183\n",
      "2500711    420\n",
      "1892419    184\n",
      "794486     321\n",
      "          ... \n",
      "744461      75\n",
      "3700734     76\n",
      "3835955    379\n",
      "463653     420\n",
      "8566       288\n",
      "Name: target, Length: 169500, dtype: int64 as keyword args. From version 0.25 passing these as positional arguments will result in an error\n",
      "  warnings.warn(\"Pass {} as keyword args. From version 0.25 \"\n"
     ]
    }
   ],
   "source": [
    "from sklearn.utils.class_weight import compute_class_weight\n",
    "\n",
    "class_weights = compute_class_weight('balanced', np.unique(y_train), y_train)\n",
    "class_weights += 0.1\n",
    "\n",
    "#print(class_weights)\n",
    "\n",
    "weights = torch.tensor(class_weights, dtype = torch.float)\n",
    "weights = weights.to(device)\n",
    "#cross_entropy = nn.CrossEntropyLoss()\n",
    "cross_entropy = nn.NLLLoss(weight=weights)\n",
    "epochs = 20"
   ]
  },
  {
   "cell_type": "code",
   "execution_count": null,
   "id": "ecfef320",
   "metadata": {},
   "outputs": [],
   "source": []
  },
  {
   "cell_type": "markdown",
   "id": "b8a38c13",
   "metadata": {},
   "source": [
    "Функция для наглядного обучения модели"
   ]
  },
  {
   "cell_type": "code",
   "execution_count": 219,
   "id": "03fe1d9a",
   "metadata": {},
   "outputs": [],
   "source": [
    "def train():\n",
    "    model.train()\n",
    "    total_loss, total_accuracy = 0, 0\n",
    "    total_preds = []\n",
    "    \n",
    "    for step, batch in tqdm(enumerate(train_dataloader), total = len(train_dataloader)):\n",
    "        batch = [r.to(device) for r in batch]\n",
    "        sent_id,mask,labels = batch\n",
    "        model.zero_grad()\n",
    "        preds = model(sent_id, mask)\n",
    "        loss = cross_entropy(preds, labels)\n",
    "        #print(loss)\n",
    "        total_loss += loss.item()\n",
    "        loss.backward()\n",
    "        torch.nn.utils.clip_grad_norm_(model.parameters(), 1.0)\n",
    "        optimizer.step()\n",
    "        preds = preds.detach().cpu().numpy()\n",
    "        total_preds.append(preds)\n",
    "        \n",
    "    avg_loss = total_loss / len(train_dataloader)\n",
    "    total_preds = np.concatenate(total_preds, axis = 0)\n",
    "    \n",
    "    return avg_loss, total_preds"
   ]
  },
  {
   "cell_type": "markdown",
   "id": "c08aa1c7",
   "metadata": {},
   "source": [
    "Функция для тестирования модели"
   ]
  },
  {
   "cell_type": "code",
   "execution_count": 220,
   "id": "bc7fa2ee",
   "metadata": {},
   "outputs": [],
   "source": [
    "def evaluate():\n",
    "    model.eval()\n",
    "    total_loss, total_accuracy = 0,0\n",
    "    total_preds = []\n",
    "\n",
    "    for step, batch in tqdm(enumerate(test_dataloader), total = len(test_dataloader)):\n",
    "        batch = [t.to(device) for t in batch]\n",
    "        sent_id, mask, labels = batch\n",
    "        \n",
    "        with torch.no_grad():\n",
    "            preds = model(sent_id, mask)\n",
    "            #labels= labels.unsqueeze(1)\n",
    "            loss = cross_entropy(preds, labels)\n",
    "            total_loss = total_loss + loss.item()\n",
    "            preds = preds.detach().cpu().numpy()\n",
    "            total_preds.append(preds)\n",
    "\n",
    "    avg_loss = total_loss / len(test_dataloader)\n",
    "    total_preds = np.concatenate(total_preds, axis = 0)\n",
    "    \n",
    "    \n",
    "    return avg_loss, total_preds"
   ]
  },
  {
   "cell_type": "markdown",
   "id": "9bf4518b",
   "metadata": {},
   "source": [
    "Обучение новых слоев для задачи классификации"
   ]
  },
  {
   "cell_type": "code",
   "execution_count": null,
   "id": "cc06edfb",
   "metadata": {},
   "outputs": [
    {
     "name": "stdout",
     "output_type": "stream",
     "text": [
      "\n",
      " Epoch1 / 20\n"
     ]
    },
    {
     "name": "stderr",
     "output_type": "stream",
     "text": [
      "100%|██████████| 42375/42375 [16:32<00:00, 42.69it/s]\n",
      "100%|██████████| 10594/10594 [02:59<00:00, 58.88it/s]\n"
     ]
    },
    {
     "name": "stdout",
     "output_type": "stream",
     "text": [
      "\n",
      "Training loss: 4.244\n",
      "Test loss: 3.094\n",
      "\n",
      " Epoch2 / 20\n"
     ]
    },
    {
     "name": "stderr",
     "output_type": "stream",
     "text": [
      "100%|██████████| 42375/42375 [16:15<00:00, 43.42it/s]\n",
      "100%|██████████| 10594/10594 [02:58<00:00, 59.29it/s]\n"
     ]
    },
    {
     "name": "stdout",
     "output_type": "stream",
     "text": [
      "\n",
      "Training loss: 3.448\n",
      "Test loss: 2.888\n",
      "\n",
      " Epoch3 / 20\n"
     ]
    },
    {
     "name": "stderr",
     "output_type": "stream",
     "text": [
      "100%|██████████| 42375/42375 [16:41<00:00, 42.31it/s]\n",
      "100%|██████████| 10594/10594 [02:58<00:00, 59.25it/s]\n"
     ]
    },
    {
     "name": "stdout",
     "output_type": "stream",
     "text": [
      "\n",
      "Training loss: 3.286\n",
      "Test loss: 2.885\n",
      "\n",
      " Epoch4 / 20\n"
     ]
    },
    {
     "name": "stderr",
     "output_type": "stream",
     "text": [
      "100%|██████████| 42375/42375 [16:42<00:00, 42.28it/s]\n",
      "100%|██████████| 10594/10594 [02:59<00:00, 59.10it/s]\n"
     ]
    },
    {
     "name": "stdout",
     "output_type": "stream",
     "text": [
      "\n",
      "Training loss: 3.195\n",
      "Test loss: 2.674\n",
      "\n",
      " Epoch5 / 20\n"
     ]
    },
    {
     "name": "stderr",
     "output_type": "stream",
     "text": [
      "100%|██████████| 42375/42375 [16:43<00:00, 42.21it/s]\n",
      "100%|██████████| 10594/10594 [02:59<00:00, 59.13it/s]\n"
     ]
    },
    {
     "name": "stdout",
     "output_type": "stream",
     "text": [
      "\n",
      "Training loss: 3.146\n",
      "Test loss: 2.545\n",
      "\n",
      " Epoch6 / 20\n"
     ]
    },
    {
     "name": "stderr",
     "output_type": "stream",
     "text": [
      "100%|██████████| 42375/42375 [16:43<00:00, 42.21it/s]\n",
      "100%|██████████| 10594/10594 [02:59<00:00, 59.12it/s]\n"
     ]
    },
    {
     "name": "stdout",
     "output_type": "stream",
     "text": [
      "\n",
      "Training loss: 3.087\n",
      "Test loss: 2.513\n",
      "\n",
      " Epoch7 / 20\n"
     ]
    },
    {
     "name": "stderr",
     "output_type": "stream",
     "text": [
      "100%|██████████| 42375/42375 [16:42<00:00, 42.28it/s]\n",
      "100%|██████████| 10594/10594 [02:59<00:00, 59.15it/s]\n"
     ]
    },
    {
     "name": "stdout",
     "output_type": "stream",
     "text": [
      "\n",
      "Training loss: 3.048\n",
      "Test loss: 2.477\n",
      "\n",
      " Epoch8 / 20\n"
     ]
    },
    {
     "name": "stderr",
     "output_type": "stream",
     "text": [
      "100%|██████████| 42375/42375 [16:42<00:00, 42.25it/s]\n",
      "100%|██████████| 10594/10594 [02:58<00:00, 59.32it/s]\n"
     ]
    },
    {
     "name": "stdout",
     "output_type": "stream",
     "text": [
      "\n",
      "Training loss: 3.006\n",
      "Test loss: 2.543\n",
      "\n",
      " Epoch9 / 20\n"
     ]
    },
    {
     "name": "stderr",
     "output_type": "stream",
     "text": [
      "100%|██████████| 42375/42375 [16:41<00:00, 42.32it/s]\n",
      "100%|██████████| 10594/10594 [02:58<00:00, 59.28it/s]\n"
     ]
    },
    {
     "name": "stdout",
     "output_type": "stream",
     "text": [
      "\n",
      "Training loss: 2.985\n",
      "Test loss: 2.482\n",
      "\n",
      " Epoch10 / 20\n"
     ]
    },
    {
     "name": "stderr",
     "output_type": "stream",
     "text": [
      "100%|██████████| 42375/42375 [16:42<00:00, 42.26it/s]\n",
      "100%|██████████| 10594/10594 [02:59<00:00, 59.15it/s]\n"
     ]
    },
    {
     "name": "stdout",
     "output_type": "stream",
     "text": [
      "\n",
      "Training loss: 2.962\n",
      "Test loss: 2.401\n",
      "\n",
      " Epoch11 / 20\n"
     ]
    },
    {
     "name": "stderr",
     "output_type": "stream",
     "text": [
      "100%|██████████| 42375/42375 [16:44<00:00, 42.20it/s]\n",
      "100%|██████████| 10594/10594 [02:58<00:00, 59.21it/s]\n"
     ]
    },
    {
     "name": "stdout",
     "output_type": "stream",
     "text": [
      "\n",
      "Training loss: 2.939\n",
      "Test loss: 2.423\n",
      "\n",
      " Epoch12 / 20\n"
     ]
    },
    {
     "name": "stderr",
     "output_type": "stream",
     "text": [
      "100%|██████████| 42375/42375 [16:41<00:00, 42.31it/s]\n",
      "100%|██████████| 10594/10594 [02:58<00:00, 59.32it/s]\n"
     ]
    },
    {
     "name": "stdout",
     "output_type": "stream",
     "text": [
      "\n",
      "Training loss: 2.919\n",
      "Test loss: 2.434\n",
      "\n",
      " Epoch13 / 20\n"
     ]
    },
    {
     "name": "stderr",
     "output_type": "stream",
     "text": [
      "100%|██████████| 42375/42375 [16:43<00:00, 42.24it/s]\n",
      "100%|██████████| 10594/10594 [02:58<00:00, 59.40it/s]\n"
     ]
    },
    {
     "name": "stdout",
     "output_type": "stream",
     "text": [
      "\n",
      "Training loss: 2.907\n",
      "Test loss: 2.506\n",
      "\n",
      " Epoch14 / 20\n"
     ]
    },
    {
     "name": "stderr",
     "output_type": "stream",
     "text": [
      "100%|██████████| 42375/42375 [16:41<00:00, 42.31it/s]\n",
      "100%|██████████| 10594/10594 [02:58<00:00, 59.24it/s]\n"
     ]
    },
    {
     "name": "stdout",
     "output_type": "stream",
     "text": [
      "\n",
      "Training loss: 2.899\n",
      "Test loss: 2.330\n",
      "\n",
      " Epoch15 / 20\n"
     ]
    },
    {
     "name": "stderr",
     "output_type": "stream",
     "text": [
      "100%|██████████| 42375/42375 [16:44<00:00, 42.20it/s]\n",
      "100%|██████████| 10594/10594 [02:59<00:00, 59.08it/s]\n"
     ]
    },
    {
     "name": "stdout",
     "output_type": "stream",
     "text": [
      "\n",
      "Training loss: 2.884\n",
      "Test loss: 2.409\n",
      "\n",
      " Epoch16 / 20\n"
     ]
    },
    {
     "name": "stderr",
     "output_type": "stream",
     "text": [
      "100%|██████████| 42375/42375 [16:44<00:00, 42.20it/s]\n",
      "100%|██████████| 10594/10594 [02:46<00:00, 63.57it/s]\n"
     ]
    },
    {
     "name": "stdout",
     "output_type": "stream",
     "text": [
      "\n",
      "Training loss: 2.875\n",
      "Test loss: 2.420\n",
      "\n",
      " Epoch17 / 20\n"
     ]
    },
    {
     "name": "stderr",
     "output_type": "stream",
     "text": [
      "100%|██████████| 42375/42375 [16:43<00:00, 42.23it/s]\n",
      "100%|██████████| 10594/10594 [02:58<00:00, 59.23it/s]\n"
     ]
    },
    {
     "name": "stdout",
     "output_type": "stream",
     "text": [
      "\n",
      "Training loss: 2.867\n",
      "Test loss: 2.526\n",
      "\n",
      " Epoch18 / 20\n"
     ]
    },
    {
     "name": "stderr",
     "output_type": "stream",
     "text": [
      "100%|██████████| 42375/42375 [16:44<00:00, 42.18it/s]\n",
      "100%|██████████| 10594/10594 [02:58<00:00, 59.31it/s]\n"
     ]
    },
    {
     "name": "stdout",
     "output_type": "stream",
     "text": [
      "\n",
      "Training loss: 2.859\n",
      "Test loss: 2.414\n",
      "\n",
      " Epoch19 / 20\n"
     ]
    },
    {
     "name": "stderr",
     "output_type": "stream",
     "text": [
      "100%|██████████| 42375/42375 [16:44<00:00, 42.18it/s]\n",
      "100%|██████████| 10594/10594 [02:58<00:00, 59.20it/s]\n"
     ]
    },
    {
     "name": "stdout",
     "output_type": "stream",
     "text": [
      "\n",
      "Training loss: 2.861\n",
      "Test loss: 2.359\n",
      "\n",
      " Epoch20 / 20\n"
     ]
    },
    {
     "name": "stderr",
     "output_type": "stream",
     "text": [
      " 79%|███████▊  | 33299/42375 [13:07<03:35, 42.06it/s]"
     ]
    }
   ],
   "source": [
    "best_test_loss = float('inf')\n",
    "\n",
    "train_losses = []\n",
    "test_losses = []\n",
    "\n",
    "for epoch in range(epochs):\n",
    "    print('\\n Epoch{:} / {:}'.format(epoch+1, epochs))\n",
    "    \n",
    "    train_loss, _ = train()\n",
    "    test_loss, _ = evaluate()\n",
    "    \n",
    "    if test_loss < best_test_loss:\n",
    "        best_test_loss = test_loss\n",
    "        torch.save(model.state_dict(), 'saved_weights.pt')\n",
    "    \n",
    "    train_losses.append(train_loss)\n",
    "    test_losses.append(test_loss)\n",
    "    print(f'\\nTraining loss: {train_loss:.3f}')\n",
    "    print(f'Test loss: {test_loss:.3f}')\n",
    "    \n",
    "    \n",
    "def train_acc():\n",
    "    model.eval()\n",
    "    total_loss, total_accuracy = 0,0\n",
    "    total_preds = []\n",
    "    total_acc_test = 0\n",
    "\n",
    "    for step, batch in tqdm(enumerate(train_dataloader), total = len(train_dataloader)):\n",
    "        batch = [t.to(device) for t in batch]\n",
    "        sent_id, mask, labels = batch\n",
    "        \n",
    "        with torch.no_grad():\n",
    "            preds = model(sent_id, mask)\n",
    "            #labels= labels.unsqueeze(1)\n",
    "            loss = cross_entropy(preds, labels)\n",
    "            total_loss = total_loss + loss.item()\n",
    "            \n",
    "            test_labels = labels.to(device)\n",
    "            acc = (preds.argmax(dim=1) == test_labels).sum().item()\n",
    "            total_acc_test += acc            \n",
    "            \n",
    "            preds = preds.detach().cpu().numpy()\n",
    "            total_preds.append(preds)\n",
    "            \n",
    "\n",
    "\n",
    "    avg_loss = total_loss / len(test_dataloader)\n",
    "    total_preds = np.concatenate(total_preds, axis = 0)\n",
    "    \n",
    "    print(f'Test Accuracy: {total_acc_test / len(total_preds): .3f}')\n",
    "    return avg_loss, total_preds\n",
    "\n",
    "aa,bb = train_acc()    \n",
    "    \n",
    "def acc():\n",
    "    model.eval()\n",
    "    total_loss, total_accuracy = 0,0\n",
    "    total_preds = []\n",
    "    total_acc_test = 0\n",
    "\n",
    "    for step, batch in tqdm(enumerate(test_dataloader), total = len(test_dataloader)):\n",
    "        batch = [t.to(device) for t in batch]\n",
    "        sent_id, mask, labels = batch\n",
    "        \n",
    "        with torch.no_grad():\n",
    "            preds = model(sent_id, mask)\n",
    "            #labels= labels.unsqueeze(1)\n",
    "            loss = cross_entropy(preds, labels)\n",
    "            total_loss = total_loss + loss.item()\n",
    "            \n",
    "            test_labels = labels.to(device)\n",
    "            acc = (preds.argmax(dim=1) == test_labels).sum().item()\n",
    "            total_acc_test += acc            \n",
    "            \n",
    "            preds = preds.detach().cpu().numpy()\n",
    "            total_preds.append(preds)\n",
    "            \n",
    "\n",
    "\n",
    "    avg_loss = total_loss / len(test_dataloader)\n",
    "    total_preds = np.concatenate(total_preds, axis = 0)\n",
    "    \n",
    "    print(f'Test Accuracy: {total_acc_test / len(total_preds): .3f}')\n",
    "    return avg_loss, total_preds\n",
    "\n",
    "a,b = acc()"
   ]
  },
  {
   "cell_type": "markdown",
   "id": "710caabe",
   "metadata": {},
   "source": [
    "Загружаем лучшую модель для предсказания"
   ]
  },
  {
   "cell_type": "code",
   "execution_count": null,
   "id": "ce96aa17",
   "metadata": {},
   "outputs": [],
   "source": [
    "model.eval()"
   ]
  },
  {
   "cell_type": "code",
   "execution_count": null,
   "id": "a3f446bc",
   "metadata": {},
   "outputs": [],
   "source": [
    "#path = '474_v2_saved_weights.pt'\n",
    "#model.load_state_dict(torch.load(path))\n",
    "#model.eval()"
   ]
  },
  {
   "cell_type": "code",
   "execution_count": null,
   "id": "2f3c7f9f",
   "metadata": {},
   "outputs": [],
   "source": []
  },
  {
   "cell_type": "markdown",
   "id": "066f6ae4",
   "metadata": {},
   "source": [
    "### Предсказываем\n"
   ]
  },
  {
   "cell_type": "code",
   "execution_count": null,
   "id": "4870cb3d",
   "metadata": {},
   "outputs": [],
   "source": [
    "def predict_dataloader(predict_dataloader):\n",
    "    total_preds = []\n",
    "    total_labels = []\n",
    "    \n",
    "    for step, batch in tqdm(enumerate(predict_dataloader), total = len(predict_dataloader)):\n",
    "        batch = [t.to(device) for t in batch]\n",
    "        sent_id, mask, labels = batch\n",
    "        \n",
    "        with torch.no_grad():\n",
    "            preds = model(sent_id, mask)\n",
    "            preds = preds.detach().cpu().numpy()    \n",
    "            preds = preds.argmax(axis=1)\n",
    "            labels = labels.cpu().numpy()\n",
    "            total_preds.append(preds)\n",
    "            total_labels.append(labels)\n",
    "            \n",
    "    return total_preds, total_labels\n",
    "\n",
    "\n",
    "def predict_df(df):\n",
    "    df = df.copy()\n",
    "    batch_size = 1\n",
    "    tokens_predict = tokenizer.batch_encode_plus(\n",
    "        df['OPISANIE_CLEAN'].values,\n",
    "        max_length = 15,\n",
    "        padding = 'max_length',\n",
    "        truncation = True\n",
    "    )\n",
    "    \n",
    "    total_preds = []\n",
    "    \n",
    "    predict_seq = torch.tensor(tokens_predict['input_ids'])\n",
    "    predict_mask = torch.tensor(tokens_predict['attention_mask'])\n",
    "    predict_data =  TensorDataset(predict_seq, predict_mask)\n",
    "    predict_sampler = SequentialSampler(predict_data)\n",
    "    predict_dataloader = DataLoader(predict_data, sampler = predict_sampler, batch_size = batch_size)\n",
    "    \n",
    "    \n",
    "    for step, batch in tqdm(enumerate(predict_dataloader), total = len(predict_dataloader)):\n",
    "        batch = [t.to(device) for t in batch]\n",
    "        sent_id, mask = batch\n",
    "        \n",
    "        with torch.no_grad():\n",
    "            preds = model(sent_id, mask)\n",
    "            preds = preds.detach().cpu().numpy()    \n",
    "            preds = np.argmax(preds)\n",
    "            total_preds.append(preds)\n",
    "    df['target'] = total_preds\n",
    "    return df\n",
    "\n",
    "#pred_df = predict_df(test_df)\n",
    "#display(pred_df)\n",
    "\n",
    "a, b = predict_dataloader(test_dataloader)\n",
    "\n",
    "a = np.hstack(a)\n",
    "b = np.hstack(b)\n",
    "\n",
    "for x in zip(a,b):\n",
    "    print(x[0], x[1])"
   ]
  },
  {
   "cell_type": "code",
   "execution_count": 76,
   "id": "9ae5bb2f",
   "metadata": {},
   "outputs": [
    {
     "name": "stderr",
     "output_type": "stream",
     "text": [
      "100%|██████████| 16929/16929 [04:50<00:00, 58.37it/s]\n"
     ]
    },
    {
     "name": "stdout",
     "output_type": "stream",
     "text": [
      "Test Accuracy:  0.664\n"
     ]
    }
   ],
   "source": [
    "def train_acc():\n",
    "    model.eval()\n",
    "    total_loss, total_accuracy = 0,0\n",
    "    total_preds = []\n",
    "    total_acc_test = 0\n",
    "\n",
    "    for step, batch in tqdm(enumerate(train_dataloader), total = len(train_dataloader)):\n",
    "        batch = [t.to(device) for t in batch]\n",
    "        sent_id, mask, labels = batch\n",
    "        \n",
    "        with torch.no_grad():\n",
    "            preds = model(sent_id, mask)\n",
    "            #labels= labels.unsqueeze(1)\n",
    "            loss = cross_entropy(preds, labels)\n",
    "            total_loss = total_loss + loss.item()\n",
    "            \n",
    "            test_labels = labels.to(device)\n",
    "            acc = (preds.argmax(dim=1) == test_labels).sum().item()\n",
    "            total_acc_test += acc            \n",
    "            \n",
    "            preds = preds.detach().cpu().numpy()\n",
    "            total_preds.append(preds)\n",
    "            \n",
    "\n",
    "\n",
    "    avg_loss = total_loss / len(test_dataloader)\n",
    "    total_preds = np.concatenate(total_preds, axis = 0)\n",
    "    \n",
    "    print(f'Test Accuracy: {total_acc_test / len(total_preds): .3f}')\n",
    "    return avg_loss, total_preds\n",
    "\n",
    "a,b = train_acc()"
   ]
  },
  {
   "cell_type": "code",
   "execution_count": null,
   "id": "468a01c8",
   "metadata": {},
   "outputs": [],
   "source": []
  },
  {
   "cell_type": "code",
   "execution_count": null,
   "id": "ee842a62",
   "metadata": {},
   "outputs": [],
   "source": []
  }
 ],
 "metadata": {
  "kernelspec": {
   "display_name": "Python 3 (ipykernel)",
   "language": "python",
   "name": "python3"
  },
  "language_info": {
   "codemirror_mode": {
    "name": "ipython",
    "version": 3
   },
   "file_extension": ".py",
   "mimetype": "text/x-python",
   "name": "python",
   "nbconvert_exporter": "python",
   "pygments_lexer": "ipython3",
   "version": "3.10.4"
  }
 },
 "nbformat": 4,
 "nbformat_minor": 5
}
